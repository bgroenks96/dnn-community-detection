{
 "cells": [
  {
   "cell_type": "code",
   "execution_count": 2,
   "metadata": {},
   "outputs": [
    {
     "ename": "ModuleNotFoundError",
     "evalue": "No module named 'tensorflow'",
     "output_type": "error",
     "traceback": [
      "\u001b[0;31m---------------------------------------------------------------------------\u001b[0m",
      "\u001b[0;31mModuleNotFoundError\u001b[0m                       Traceback (most recent call last)",
      "\u001b[0;32m<ipython-input-2-d51b889ac635>\u001b[0m in \u001b[0;36m<module>\u001b[0;34m\u001b[0m\n\u001b[1;32m      1\u001b[0m \u001b[0;32mimport\u001b[0m \u001b[0mnumpy\u001b[0m \u001b[0;32mas\u001b[0m \u001b[0mnp\u001b[0m\u001b[0;34m\u001b[0m\u001b[0;34m\u001b[0m\u001b[0m\n\u001b[0;32m----> 2\u001b[0;31m \u001b[0;32mimport\u001b[0m \u001b[0mtensorflow\u001b[0m \u001b[0;32mas\u001b[0m \u001b[0mtf\u001b[0m\u001b[0;34m\u001b[0m\u001b[0;34m\u001b[0m\u001b[0m\n\u001b[0m\u001b[1;32m      3\u001b[0m \u001b[0;32mimport\u001b[0m \u001b[0mtensorflow\u001b[0m\u001b[0;34m.\u001b[0m\u001b[0mkeras\u001b[0m \u001b[0;32mas\u001b[0m \u001b[0mkeras\u001b[0m\u001b[0;34m\u001b[0m\u001b[0;34m\u001b[0m\u001b[0m\n\u001b[1;32m      4\u001b[0m \u001b[0;32mfrom\u001b[0m \u001b[0mtensorflow\u001b[0m\u001b[0;34m.\u001b[0m\u001b[0mkeras\u001b[0m\u001b[0;34m.\u001b[0m\u001b[0mlayers\u001b[0m \u001b[0;32mimport\u001b[0m \u001b[0mInput\u001b[0m\u001b[0;34m,\u001b[0m \u001b[0mDense\u001b[0m\u001b[0;34m,\u001b[0m \u001b[0mActivation\u001b[0m\u001b[0;34m\u001b[0m\u001b[0;34m\u001b[0m\u001b[0m\n\u001b[1;32m      5\u001b[0m \u001b[0;32mfrom\u001b[0m \u001b[0mtensorflow\u001b[0m\u001b[0;34m.\u001b[0m\u001b[0mkeras\u001b[0m\u001b[0;34m.\u001b[0m\u001b[0mdatasets\u001b[0m \u001b[0;32mimport\u001b[0m \u001b[0mmnist\u001b[0m\u001b[0;34m\u001b[0m\u001b[0;34m\u001b[0m\u001b[0m\n",
      "\u001b[0;31mModuleNotFoundError\u001b[0m: No module named 'tensorflow'"
     ]
    }
   ],
   "source": [
    "import numpy as np\n",
    "import tensorflow as tf\n",
    "import tensorflow.keras as keras\n",
    "from tensorflow.keras.layers import Input, Dense, Activation\n",
    "from tensorflow.keras.datasets import mnist\n",
    "from keras.callbacks import LambdaCallback\n",
    "from keras.callbacks import ModelCheckpoint"
   ]
  },
  {
   "cell_type": "code",
   "execution_count": 6,
   "metadata": {},
   "outputs": [
    {
     "data": {
      "text/plain": [
       "array([[0, 1, 2, 3, 4],\n",
       "       [5, 6, 7, 8, 9]])"
      ]
     },
     "execution_count": 6,
     "metadata": {},
     "output_type": "execute_result"
    }
   ],
   "source": [
    "x = np.arange(0,10)\n",
    "x = np.reshape(x, (2,5))\n",
    "x"
   ]
  },
  {
   "cell_type": "code",
   "execution_count": 2,
   "metadata": {},
   "outputs": [
    {
     "data": {
      "text/plain": [
       "'2.0.0'"
      ]
     },
     "execution_count": 2,
     "metadata": {},
     "output_type": "execute_result"
    }
   ],
   "source": [
    "tf.__version__"
   ]
  },
  {
   "cell_type": "code",
   "execution_count": 3,
   "metadata": {},
   "outputs": [
    {
     "name": "stdout",
     "output_type": "stream",
     "text": [
      "Model: \"model\"\n",
      "_________________________________________________________________\n",
      "Layer (type)                 Output Shape              Param #   \n",
      "=================================================================\n",
      "input_1 (InputLayer)         [(None, 784)]             0         \n",
      "_________________________________________________________________\n",
      "dense_1 (Dense)              (None, 64)                50240     \n",
      "_________________________________________________________________\n",
      "dense_2 (Dense)              (None, 64)                4160      \n",
      "_________________________________________________________________\n",
      "dense_3 (Dense)              (None, 64)                4160      \n",
      "_________________________________________________________________\n",
      "dense (Dense)                (None, 10)                650       \n",
      "=================================================================\n",
      "Total params: 59,210\n",
      "Trainable params: 59,210\n",
      "Non-trainable params: 0\n",
      "_________________________________________________________________\n"
     ]
    }
   ],
   "source": [
    "# Build model\n",
    "input_dims = 784\n",
    "hidden_dims = 64\n",
    "input_0 = Input(shape=(input_dims,))\n",
    "dense = lambda x: Dense(hidden_dims, activation='relu')(x)\n",
    "output = Dense(10, activation='softmax')\n",
    "model = keras.Model(inputs=input_0, outputs=output(dense(dense(dense(input_0)))))\n",
    "\n",
    "model.compile(loss='categorical_crossentropy', optimizer='adam', metrics = [\"accuracy\"])\n",
    "model.summary()"
   ]
  },
  {
   "cell_type": "code",
   "execution_count": 5,
   "metadata": {},
   "outputs": [
    {
     "name": "stdout",
     "output_type": "stream",
     "text": [
      "Train on 60000 samples, validate on 10000 samples\n",
      "Epoch 1/2\n",
      "60000/60000 [==============================] - 1s 18us/sample - loss: 0.3415 - accuracy: 0.9102 - val_loss: 0.2960 - val_accuracy: 0.9266\n",
      "Epoch 2/2\n",
      "60000/60000 [==============================] - 1s 19us/sample - loss: 0.2409 - accuracy: 0.9331 - val_loss: 0.2481 - val_accuracy: 0.9332\n",
      "Test loss: 0.24807115334477275\n",
      "Test accuracy: 0.9332\n"
     ]
    }
   ],
   "source": [
    "# Train model\n",
    "num_classes = 10\n",
    "batch_size = 128\n",
    "epochs = 2\n",
    "weights = {}\n",
    "\n",
    "(x_train, y_train), (x_test, y_test) = mnist.load_data()\n",
    "\n",
    "x_train = x_train.reshape(60000, 784)\n",
    "x_test = x_test.reshape(10000, 784)\n",
    "\n",
    "y_train = keras.utils.to_categorical(y_train, num_classes)\n",
    "y_test = keras.utils.to_categorical(y_test, num_classes)\n",
    "\n",
    "#print_weights = LambdaCallback(on_epoch_end=lambda batch, logs: print(model.()))#weights.append(model.layers[1].get_weights()))\n",
    "\n",
    "filepath=\"epoch:{epoch:02d}-val_acc:{val_accuracy:.4f}.hdf5\"\n",
    "save_weights = ModelCheckpoint(filepath, \n",
    "                               monitor='val_loss', \n",
    "                               verbose=0, \n",
    "                               save_best_only=False, \n",
    "                               save_weights_only=True, \n",
    "                               mode='auto', period=1)\n",
    "\n",
    "\n",
    "history = model.fit(x_train, y_train,\n",
    "                    batch_size=batch_size,\n",
    "                    epochs=epochs,\n",
    "                    verbose=1,\n",
    "                    validation_data=(x_test, y_test),\n",
    "                    callbacks = [save_weights])\n",
    "\n",
    "\n",
    "score = model.evaluate(x_test, y_test, verbose=0)\n",
    "print('Test loss:', score[0])\n",
    "print('Test accuracy:', score[1])\n",
    "\n",
    "#print(np.shape(weights[0]))\n",
    "#print\n",
    "\n",
    "#def store_weights(model, weights):\n",
    "    "
   ]
  },
  {
   "cell_type": "code",
   "execution_count": 16,
   "metadata": {},
   "outputs": [
    {
     "data": {
      "text/plain": [
       "(784, 64)"
      ]
     },
     "execution_count": 16,
     "metadata": {},
     "output_type": "execute_result"
    }
   ],
   "source": [
    "model.load_weights(\"epoch:01-val_acc:0.9661.hdf5\")\n",
    "\n",
    "data  = model.layers[1].get_weights()\n",
    "\n",
    "np.shape(data[0])"
   ]
  },
  {
   "cell_type": "code",
   "execution_count": 6,
   "metadata": {},
   "outputs": [
    {
     "name": "stdout",
     "output_type": "stream",
     "text": [
      "['1838', '406', '2316', '10123', '638', '604', '77', '1031', '2505', '573', '1597', '765', '9875', '1807', '2301', '9903', '2103', '2260', '10519', '941', '809', '835', '821', '9902', '174', '1816', '2462', '9906', '59', '10455', '10290', '951', '1786', '1977', '1787', '978', '993', '10468', '1354', '9907', '398', '1815', '2307', '99', '8', '10318', '72', '10293', '1544', '1579', '10537', '10325', '833', '2110', '9910', '1394', '1627', '358', '1697', '2375', '1640', '1132', '2188', '14', '2177', '1085', '1734', '2572', '1084', '510', '276', '2599', '538', '10223', '2162', '2604', '10169', '2374', '1696', '466', '1680', '2362', '10157', '1131', '102', '9960', '738', '710', '1521', '1910', '1051', '1044', '507', '1252', '2015', '711', '1483', '9975', '315', '1681', '2415', '891', '2159', '10378', '1242', '1915', '10027', '270', '2616', '648', '112', '2366', '1647', '1860', '310', '1123', '10145', '104', '10409', '1321', '2166', '919', '1527', '10541', '2012', '1095', '1452', '9973', '2198', '105', '475', '450', '9981', '1463', '1700', '2547', '2619', '10404', '2355', '309', '447', '1879', '1676', '484', '2419', '533', '1717', '1703', '1065', '2008', '2154', '2197', '678', '491', '9987', '10365', '2583', '10007', '2227', '10006', '1060', '1909', '2151', '1458', '2623', '1699', '443', '455', '2437', '1658', '10399', '870', '535', '2594', '1710', '290', '2225', '508', '1936', '905', '871', '1665', '2393', '454', '1831', '355', '779', '1548', '1945', '2040', '2083', '618', '397', '2336', '1601', '2122', '2136', '961', '9895', '593', '587', '1012', '2255', '1238', '747', '6', '2123', '40', '394', '2335', '357', '838', '10448', '1200', '780', '2047', '1002', '1017', '1003', '1942', '3', '2318', '10139', '2495', '408', '1822', '2497', '1607', '9930', '783', '2045', '2086', '184', '609', '345', '351']\n"
     ]
    }
   ],
   "source": [
    "import os\n",
    "hats = os.listdir(os.path.join(os.getcwd(),\"ones_hats\"))\n",
    "hats = [x.split(\".\")[0] for x in hats]\n",
    "\n",
    "no_hats = os.listdir(os.path.join(os.getcwd(),\"ones_no_hats\"))\n",
    "no_hats = [x.split(\".\")[0] for x in no_hats]\n",
    "\n",
    "print(no_hats)"
   ]
  }
 ],
 "metadata": {
  "kernelspec": {
   "display_name": "Python 3",
   "language": "python",
   "name": "python3"
  },
  "language_info": {
   "codemirror_mode": {
    "name": "ipython",
    "version": 3
   },
   "file_extension": ".py",
   "mimetype": "text/x-python",
   "name": "python",
   "nbconvert_exporter": "python",
   "pygments_lexer": "ipython3",
   "version": "3.7.4"
  }
 },
 "nbformat": 4,
 "nbformat_minor": 2
}
