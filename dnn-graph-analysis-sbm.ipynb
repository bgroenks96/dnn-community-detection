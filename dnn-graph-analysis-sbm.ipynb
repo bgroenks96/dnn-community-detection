{
 "cells": [
  {
   "cell_type": "code",
   "execution_count": null,
   "metadata": {},
   "outputs": [],
   "source": [
    "from tensorflow.keras.models import load_model\n",
    "import mnist\n",
    "import dnn\n",
    "import os.path\n",
    "import graph_tool as gt\n",
    "import nn2graph\n",
    "import numpy as np\n",
    "import pandas as pd\n",
    "import statsmodels.stats as stats\n",
    "import matplotlib.pyplot as plt\n",
    "import seaborn as sns"
   ]
  },
  {
   "cell_type": "markdown",
   "metadata": {},
   "source": [
    "#### Build or load model"
   ]
  },
  {
   "cell_type": "code",
   "execution_count": null,
   "metadata": {},
   "outputs": [],
   "source": [
    "load_saved_model = True\n",
    "if load_saved_model and os.path.exists('data/outputs/mnist_dnn_4x64_10.h5'):\n",
    "    model = load_model('data/outputs/mnist_dnn_4x64_10.h5')\n",
    "else:\n",
    "    model = dnn.build_dense(X_train.shape[-1], hidden_dims=64)\n",
    "    model.fit(mnist.X_train, mnist.y_train, batch_size=128, epochs=10, validation_data=(mnist.X_test, mnist.y_test))\n",
    "    model.save('data/outputs/mnist_dnn_4x64_10.h5')"
   ]
  },
  {
   "cell_type": "code",
   "execution_count": null,
   "metadata": {},
   "outputs": [],
   "source": [
    "print(model.evaluate(mnist.X_test, mnist.y_test, verbose=0))\n",
    "y_pred = model.predict(mnist.X_test)"
   ]
  },
  {
   "cell_type": "markdown",
   "metadata": {},
   "source": [
    "#### Convert neural network to graph"
   ]
  },
  {
   "cell_type": "code",
   "execution_count": null,
   "metadata": {},
   "outputs": [],
   "source": [
    "from tensorflow.keras.layers import Dense\n",
    "N = 1000\n",
    "rand_inds = mnist.subsample_test(N)\n",
    "layer_sizes = [mnist.X_test.shape[-1]] + [layer.units for layer in model.layers if isinstance(layer, Dense)]\n",
    "g_full, g_xs = nn2graph.dense_activations_to_graph(model, mnist.X_test[rand_inds])"
   ]
  },
  {
   "cell_type": "code",
   "execution_count": null,
   "metadata": {},
   "outputs": [],
   "source": [
    "from graph_tool.inference.minimize import minimize_nested_blockmodel_dl\n",
    "min_state = minimize_nested_blockmodel_dl(g_max)\n",
    "print(min_state)"
   ]
  },
  {
   "cell_type": "code",
   "execution_count": null,
   "metadata": {},
   "outputs": [],
   "source": [
    "min_state.draw()"
   ]
  },
  {
   "cell_type": "code",
   "execution_count": null,
   "metadata": {},
   "outputs": [],
   "source": [
    "x = min_state.get_bs()[0]\n",
    "plt.imshow(x[:784].reshape((28,28)))\n",
    "plt.colorbar()\n",
    "plt.show()\n",
    "plt.imshow(X_test[i_max].reshape((28,28)))\n",
    "plt.show()"
   ]
  },
  {
   "cell_type": "code",
   "execution_count": null,
   "metadata": {},
   "outputs": [],
   "source": [
    "import pandas as pd\n",
    "\n",
    "bs = min_state.get_bs()[0]\n",
    "df = pd.DataFrame.from_dict({'group': bs, 'node label': list(range(len(bs))), 'layer': g_max.vp['layer'].a})\n",
    "sns.catplot(x='group', y='node label', data=df, hue='layer')"
   ]
  },
  {
   "cell_type": "code",
   "execution_count": null,
   "metadata": {},
   "outputs": [],
   "source": [
    "from graph_tool.inference.minimize import minimize_nested_blockmodel_dl\n",
    "min_state = minimize_nested_blockmodel_dl(g_min)\n",
    "print(min_state)\n",
    "min_state.draw(layout='sfdp')"
   ]
  },
  {
   "cell_type": "code",
   "execution_count": null,
   "metadata": {
    "scrolled": true
   },
   "outputs": [],
   "source": [
    "plt.scatter(range(g_min.num_vertices()), min_state.get_bs()[0])"
   ]
  },
  {
   "cell_type": "code",
   "execution_count": null,
   "metadata": {},
   "outputs": [],
   "source": []
  }
 ],
 "metadata": {
  "kernelspec": {
   "display_name": "Python 3",
   "language": "python",
   "name": "python3"
  },
  "language_info": {
   "codemirror_mode": {
    "name": "ipython",
    "version": 3
   },
   "file_extension": ".py",
   "mimetype": "text/x-python",
   "name": "python",
   "nbconvert_exporter": "python",
   "pygments_lexer": "ipython3",
   "version": "3.6.9"
  }
 },
 "nbformat": 4,
 "nbformat_minor": 2
}
