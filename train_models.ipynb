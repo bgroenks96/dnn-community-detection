{
 "cells": [
  {
   "cell_type": "code",
   "execution_count": 1,
   "metadata": {},
   "outputs": [],
   "source": [
    "import tensorflow as tf\n",
    "from tensorflow.keras.models import load_model\n",
    "import mnist\n",
    "import dnn\n",
    "import os.path\n",
    "import graph_tool as gt\n",
    "import nn2graph\n",
    "import numpy as np\n",
    "import pandas as pd\n",
    "import statsmodels.stats as stats\n",
    "import matplotlib\n",
    "matplotlib.rcParams.update({'font.size': 18})\n",
    "import matplotlib.pyplot as plt\n",
    "import seaborn as sns"
   ]
  },
  {
   "cell_type": "code",
   "execution_count": null,
   "metadata": {},
   "outputs": [],
   "source": [
    "import sys\n",
    "sys.path.insert(0, \"/Users/mchifala/Desktop/CSCI_5352_Network_Analysis/dnn-community-detection\")\n",
    "import nn2graph\n",
    "import mnist \n",
    "import dnn\n",
    "import os\n",
    "os.environ['KMP_DUPLICATE_LIB_OK']='True'\n",
    "import numpy as np\n",
    "import pandas as pd\n",
    "from keras.callbacks import ModelCheckpoint\n",
    "\n",
    "num_classes = 10\n",
    "batch_size = 128\n",
    "epochs = 10\n",
    "\n",
    "\n",
    "base_path=os.getcwd()\n",
    "print(base_path)\n",
    "\n",
    "for run in range(1,4):\n",
    "    new=os.path.join(base_path,\"models/run_\"+str(run))\n",
    "    if not os.path.exists(new):\n",
    "        print(new)\n",
    "        os.makedirs(new)\n",
    "    os.chdir(new)\n",
    "    for layers in range(1,5):\n",
    "        model = dnn.build_dense(input_dims=784, num_hidden_layers=layers)\n",
    "        filepath=\"run_\"+str(run)+\"-layers_\"+str(layers)+\"-epoch_{epoch:02d}.hdf5\"\n",
    "        save_weights = ModelCheckpoint(filepath, \n",
    "                                       monitor='val_loss', \n",
    "                                       verbose=0, \n",
    "                                       save_best_only=False, \n",
    "                                       save_weights_only=False, \n",
    "                                       mode='auto', period=1)\n",
    "\n",
    "\n",
    "        history = model.fit(mnist.X_train, mnist.y_train,\n",
    "                            batch_size=batch_size,\n",
    "                            epochs=epochs,\n",
    "                            verbose=1,\n",
    "                            validation_data=(mnist.X_test, mnist.y_test),\n",
    "                            callbacks = [save_weights])"
   ]
  },
  {
   "cell_type": "code",
   "execution_count": 9,
   "metadata": {},
   "outputs": [
    {
     "name": "stdout",
     "output_type": "stream",
     "text": [
      "/Users/mchifala/Desktop/CSCI_5352_Network_Analysis/dnn-community-detection\n",
      "<tensorflow.python.keras.engine.training.Model object at 0x1626bd908>\n"
     ]
    },
    {
     "data": {
      "text/plain": [
       "\"\\nmodel = load_model('data/outputs/mnist_dnn_4x64_10.h5')\\n# For a certain number of hidden layers (1, 2, 3, 4):\\n    # For a certain number of hidden layers (1, 2, 3, 4):\\n        # For each epoch:\\n            model = load_model('data/outputs/mnist_dnn_4x64_10.h5')\\n            # Get the mean degree of the model\\nN = 5000\\nrand_inds = mnist.subsample_test(N)\\ng_full, g_xs = nn2graph.dense_activations_to_graph(model, mnist.X_test[rand_inds])\\n\\nfrom tensorflow.keras.layers import Dense\\nlayer_sizes = [mnist.X_test.shape[-1]] + [layer.units for layer in model.layers if isinstance(layer, Dense)]\\ni_max = np.argmax([g.num_edges() for g in g_xs])\\ni_min = np.argmin([g.num_edges() for g in g_xs])\\ng_max = g_xs[i_max]\\ng_min = g_xs[i_min]\\ng_by_class = [[g for j, g in enumerate(g_xs) if mnist.test_labels[j] == i] for i in range(10)]\\nprint('edge max label: {}'.format(mnist.test_labels[i_max]))\\nprint('edge min label: {}'.format(mnist.test_labels[i_min]))\\n\\n\""
      ]
     },
     "execution_count": 9,
     "metadata": {},
     "output_type": "execute_result"
    }
   ],
   "source": [
    "import os\n",
    "from tensorflow.keras.models import load_model\n",
    "print(os.getcwd())\n",
    "def load_run(run, layer, epoch, base_path):\n",
    "\n",
    "    return load_model(base_path+\"/models/run_\"+str(run)+\"/run_\"+str(run)+\"-layers_\"+str(layer)+\"-epoch_\"+f'{epoch:02d}'+\".hdf5\")\n",
    "\n",
    "print(load_run(1, 4, 4, os.getcwd()))\n",
    "\"\"\"\n",
    "model = load_model('data/outputs/mnist_dnn_4x64_10.h5')\n",
    "# For a certain number of hidden layers (1, 2, 3, 4):\n",
    "    # For a certain number of hidden layers (1, 2, 3, 4):\n",
    "        # For each epoch:\n",
    "            model = load_model('data/outputs/mnist_dnn_4x64_10.h5')\n",
    "            # Get the mean degree of the model\n",
    "N = 5000\n",
    "rand_inds = mnist.subsample_test(N)\n",
    "g_full, g_xs = nn2graph.dense_activations_to_graph(model, mnist.X_test[rand_inds])\n",
    "\n",
    "from tensorflow.keras.layers import Dense\n",
    "layer_sizes = [mnist.X_test.shape[-1]] + [layer.units for layer in model.layers if isinstance(layer, Dense)]\n",
    "i_max = np.argmax([g.num_edges() for g in g_xs])\n",
    "i_min = np.argmin([g.num_edges() for g in g_xs])\n",
    "g_max = g_xs[i_max]\n",
    "g_min = g_xs[i_min]\n",
    "g_by_class = [[g for j, g in enumerate(g_xs) if mnist.test_labels[j] == i] for i in range(10)]\n",
    "print('edge max label: {}'.format(mnist.test_labels[i_max]))\n",
    "print('edge min label: {}'.format(mnist.test_labels[i_min]))\n",
    "\n",
    "\"\"\""
   ]
  },
  {
   "cell_type": "code",
   "execution_count": null,
   "metadata": {},
   "outputs": [],
   "source": [
    "number = 5\n",
    "print(f' now we have leading zeros in {number:02d}')"
   ]
  }
 ],
 "metadata": {
  "kernelspec": {
   "display_name": "Python 3",
   "language": "python",
   "name": "python3"
  },
  "language_info": {
   "codemirror_mode": {
    "name": "ipython",
    "version": 3
   },
   "file_extension": ".py",
   "mimetype": "text/x-python",
   "name": "python",
   "nbconvert_exporter": "python",
   "pygments_lexer": "ipython3",
   "version": "3.7.3"
  }
 },
 "nbformat": 4,
 "nbformat_minor": 2
}
