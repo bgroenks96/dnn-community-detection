{
 "cells": [
  {
   "cell_type": "code",
   "execution_count": 1,
   "metadata": {},
   "outputs": [],
   "source": [
    "from tensorflow.keras.models import load_model\n",
    "import mnist\n",
    "import dnn\n",
    "import os.path\n",
    "import graph_tool as gt\n",
    "import nn2graph\n",
    "import numpy as np\n",
    "import pandas as pd\n",
    "import statsmodels.stats as stats\n",
    "import matplotlib.pyplot as plt\n",
    "import seaborn as sns"
   ]
  },
  {
   "cell_type": "markdown",
   "metadata": {},
   "source": [
    "#### Build or load model"
   ]
  },
  {
   "cell_type": "code",
   "execution_count": 2,
   "metadata": {},
   "outputs": [],
   "source": [
    "load_saved_model = True\n",
    "if load_saved_model and os.path.exists('data/outputs/mnist_dnn_4x64_10.h5'):\n",
    "    model = load_model('data/outputs/mnist_dnn_4x64_10.h5')\n",
    "else:\n",
    "    model = dnn.build_dense(mnist.X_train.shape[-1], hidden_dims=64)\n",
    "    model.fit(mnist.X_train, mnist.y_train, batch_size=128, epochs=10, validation_data=(mnist.X_test, mnist.y_test))\n",
    "    model.save('data/outputs/mnist_dnn_4x64_10.h5')"
   ]
  },
  {
   "cell_type": "code",
   "execution_count": 3,
   "metadata": {},
   "outputs": [
    {
     "name": "stdout",
     "output_type": "stream",
     "text": [
      "[2.2895871978759765, 0.0974]\n"
     ]
    }
   ],
   "source": [
    "print(model.evaluate(mnist.X_test, mnist.y_test, verbose=0))\n",
    "y_pred = model.predict(mnist.X_test)"
   ]
  },
  {
   "cell_type": "markdown",
   "metadata": {},
   "source": [
    "#### Convert neural network to graph"
   ]
  },
  {
   "cell_type": "code",
   "execution_count": 4,
   "metadata": {},
   "outputs": [],
   "source": [
    "N = 5000\n",
    "rand_inds = mnist.subsample_test(N)\n",
    "g_full, g_xs = nn2graph.dense_activations_to_graph(model, mnist.X_test[rand_inds])"
   ]
  },
  {
   "cell_type": "code",
   "execution_count": null,
   "metadata": {},
   "outputs": [],
   "source": [
    "layer_sizes = [X_test.shape[-1]] + [layer.units for layer in model.layers if isinstance(layer, Dense)]\n",
    "i_max = np.argmax([g.num_edges() for g in g_xs])\n",
    "i_min = np.argmin([g.num_edges() for g in g_xs])\n",
    "g_max = g_xs[i_max]\n",
    "g_min = g_xs[i_min]\n",
    "g_by_class = [[g for j, g in enumerate(g_xs) if y_test_orig[j] == i] for i in range(10)]\n",
    "print('edge max label: {}'.format(y_test_orig[i_max]))\n",
    "print('edge min label: {}'.format(y_test_orig[i_min]))"
   ]
  },
  {
   "cell_type": "markdown",
   "metadata": {},
   "source": [
    "#### Mean weighted degree distributions per class"
   ]
  },
  {
   "cell_type": "code",
   "execution_count": null,
   "metadata": {},
   "outputs": [],
   "source": [
    "g_xs_mean_degree_by_class = pd.DataFrame({'digit class': y_test_orig[rand_inds],\n",
    "                                          'mean weighted degree': [float(g.vp['degree'].a.mean()) for g in g_xs]})\n",
    "plt.figure(figsize=(8,6))\n",
    "sns.violinplot(x='digit class', y='mean weighted degree', data=g_xs_mean_degree_by_class)\n",
    "plt.title('Mean weighted degree by digit label')\n",
    "plt.show()"
   ]
  },
  {
   "cell_type": "code",
   "execution_count": null,
   "metadata": {},
   "outputs": [],
   "source": [
    "fig, axs = plt.subplots(2, 3, figsize=(3*8,2*6))\n",
    "for i, (l, st) in enumerate(zip(layer_sizes, np.cumsum(layer_sizes))):\n",
    "    ax = axs[0 if i < 3 else 1, i%3]\n",
    "    g_xs_mean_degree_by_class = pd.DataFrame({'digit class': y_test_orig[rand_inds],\n",
    "                                              'mean weighted degree': [float(g.vp['degree'].a[st-l:st].mean()) for g in g_xs]})\n",
    "    sns.violinplot(x='digit class', y='mean weighted degree', data=g_xs_mean_degree_by_class,\n",
    "                   ax=ax)\n",
    "    ax.set_title('Mean weighted degree by digit label for layer {}'.format(i))\n",
    "plt.show()"
   ]
  },
  {
   "cell_type": "code",
   "execution_count": null,
   "metadata": {},
   "outputs": [],
   "source": [
    "fig, axs = plt.subplots(1, 5, figsize=(5*12,8))\n",
    "for i, (l, st) in enumerate(zip(layer_sizes, np.cumsum(layer_sizes))):\n",
    "    ax = axs[i]\n",
    "    g_xs_std_degree_by_class = pd.DataFrame({'digit class': y_test_orig[rand_inds],\n",
    "                                              'stddev weighted degree': [float(g.vp['degree'].a[st-l:st].std()) for g in g_xs]})\n",
    "    sns.violinplot(x='digit class', y='stddev weighted degree', data=g_xs_std_degree_by_class,\n",
    "                   ax=ax)\n",
    "    ax.set_title('Standard deviation of weighted degree by digit label for layer {}'.format(i))\n",
    "plt.show()"
   ]
  },
  {
   "cell_type": "code",
   "execution_count": null,
   "metadata": {},
   "outputs": [],
   "source": [
    "from statsmodels.stats.weightstats import ztest\n",
    "\n",
    "groups_by_class = g_xs_mean_degree_by_class.groupby('digit class').groups.items()\n",
    "p_vals = np.ones((10,10))\n",
    "for i, (c_1, inds_1) in enumerate(groups_by_class):\n",
    "    for j, (c_2, inds_2) in enumerate(groups_by_class):\n",
    "        if j >= i:\n",
    "            continue\n",
    "        sample_1 = g_xs_mean_degree_by_class.loc[inds_1, 'mean weighted degree']\n",
    "        sample_2 = g_xs_mean_degree_by_class.loc[inds_2, 'mean weighted degree']\n",
    "        z, p = ztest(sample_1, sample_2)\n",
    "        p_vals[i, j] = p\n",
    "plt.figure(figsize=(8,6))\n",
    "sns.heatmap(p_vals, cmap='Blues_r')\n",
    "plt.title('p-values for mean degree z-tests, per digit')\n",
    "plt.show()"
   ]
  },
  {
   "cell_type": "code",
   "execution_count": null,
   "metadata": {},
   "outputs": [],
   "source": [
    "fig, axs = plt.subplots(2, 3, figsize=(3*8,2*6))\n",
    "for k, (l, st) in enumerate(zip(layer_sizes, np.cumsum(layer_sizes))):\n",
    "    ax = axs[0 if k < 3 else 1, k%3]\n",
    "    g_xs_mean_degree_by_class_l = pd.DataFrame({'digit class': y_test_orig[rand_inds],\n",
    "                                                'mean weighted degree': [float(g.vp['degree'].a[st-l:st].mean()) for g in g_xs]})\n",
    "    groups_by_class = g_xs_mean_degree_by_class_l.groupby('digit class').groups.items()\n",
    "    p_vals = np.ones((10,10))\n",
    "    for i, (c_1, inds_1) in enumerate(groups_by_class):\n",
    "        for j, (c_2, inds_2) in enumerate(groups_by_class):\n",
    "            if j >= i:\n",
    "                continue\n",
    "            sample_1 = g_xs_mean_degree_by_class_l.loc[inds_1, 'mean weighted degree']\n",
    "            sample_2 = g_xs_mean_degree_by_class_l.loc[inds_2, 'mean weighted degree']\n",
    "            z, p = ztest(sample_1, sample_2)\n",
    "            p_vals[i, j] = p\n",
    "    sns.heatmap(p_vals, cmap='Blues_r', ax=ax)\n",
    "    ax.set_title('p-values for mean degree z-tests, per digit for layer {}'.format(k))\n",
    "plt.show()"
   ]
  },
  {
   "cell_type": "markdown",
   "metadata": {},
   "source": [
    "#### Mean weighted degrees vs number of active inputs"
   ]
  },
  {
   "cell_type": "code",
   "execution_count": null,
   "metadata": {},
   "outputs": [],
   "source": [
    "g_xs_degree_by_inputs = pd.DataFrame({'active inputs': np.sum(X_test[rand_inds], axis=1),\n",
    "                                      'digit class': y_test_orig[rand_inds],\n",
    "                                      'mean weighted degree': [float(g.vp['degree'].a.mean()) for g in g_xs]})\n",
    "plt.figure(figsize=(12,8))\n",
    "sns.scatterplot(x='active inputs', y='mean weighted degree', hue='digit class',\n",
    "                palette=sns.color_palette('hls', 10), alpha=0.4,\n",
    "                data=g_xs_degree_by_inputs)\n",
    "plt.title('Mean weighted degree by number of active inputs')\n",
    "plt.show()"
   ]
  },
  {
   "cell_type": "code",
   "execution_count": null,
   "metadata": {},
   "outputs": [],
   "source": [
    "layer_sizes = [784, 64, 64, 64, 64, 10]\n",
    "fig, axs = plt.subplots(2, 3, figsize=(3*12,2*8))\n",
    "for i, (l, st) in enumerate(zip(layer_sizes, np.cumsum(layer_sizes))):\n",
    "    ax = axs[0 if i < 3 else 1, i%3]\n",
    "    g_xs_mean_degree_vs_inputs = pd.DataFrame({'active inputs': np.sum(X_test[rand_inds], axis=1),\n",
    "                                               'digit class': y_test_orig[rand_inds],\n",
    "                                               'mean weighted degree': [float(g.vp['degree'].a[st-l:st].mean()) for g in g_xs]})\n",
    "    sns.scatterplot(x='active inputs', y='mean weighted degree', hue='digit class',\n",
    "                    palette=sns.color_palette('hls', 10), alpha=0.4,\n",
    "                    data=g_xs_mean_degree_vs_inputs,\n",
    "                    ax=ax)\n",
    "    ax.set_title('Mean weighted degree by number of active inputs for layer {}'.format(i))\n",
    "plt.show()"
   ]
  },
  {
   "cell_type": "code",
   "execution_count": null,
   "metadata": {},
   "outputs": [],
   "source": []
  },
  {
   "cell_type": "code",
   "execution_count": null,
   "metadata": {},
   "outputs": [],
   "source": [
    "from graph_tool.centrality import eigenvector\n",
    "eig_max, eig_vp = eigenvector(g, weight=g.ep['weight'], max_iter=1.0E5)"
   ]
  },
  {
   "cell_type": "code",
   "execution_count": null,
   "metadata": {},
   "outputs": [],
   "source": [
    "eig_centralities = [(g.vertex_index[v], eig_vp[v]) for v in g.vertices()]"
   ]
  },
  {
   "cell_type": "code",
   "execution_count": null,
   "metadata": {},
   "outputs": [],
   "source": [
    "vs_in = [v for v,_ in eig_centralities if v < input_dims]\n",
    "eigs_in = [eigc for v, eigc in eig_centralities if v < input_dims]\n",
    "vs1 = [v for v,_ in eig_centralities if v >= input_dims and v < input_dims+hidden_dims]\n",
    "eigs1 = [eigc for v, eigc in eig_centralities if v >= input_dims and v < input_dims+hidden_dims]\n",
    "vs2 = [v for v,_ in eig_centralities if v >= input_dims+hidden_dims and v < input_dims+2*hidden_dims]\n",
    "eigs2 = [eigc for v, eigc in eig_centralities if v >= input_dims+hidden_dims and v < input_dims+2*hidden_dims]\n",
    "vs3 = [v for v,_ in eig_centralities if v >= input_dims+2*hidden_dims and v < input_dims+3*hidden_dims]\n",
    "eigs3 = [eigc for v, eigc in eig_centralities if v >= input_dims+2*hidden_dims and v < input_dims+3*hidden_dims]\n",
    "vs4 = [v for v,_ in eig_centralities if v >= input_dims+3*hidden_dims and v < input_dims+4*hidden_dims]\n",
    "eigs4 = [eigc for v, eigc in eig_centralities if v >= input_dims+3*hidden_dims and v < input_dims+4*hidden_dims]\n",
    "vs_out = [v for v,_ in eig_centralities if v >= input_dims+4*hidden_dims]\n",
    "eigs_out = [eigc for v, eigc in eig_centralities if v >= input_dims+4*hidden_dims]\n",
    "plt.figure(figsize=(16,6))\n",
    "plt.subplot(1,2,1)\n",
    "plt.scatter(vs_in, eigs_in, c='gray')\n",
    "plt.scatter(vs1, eigs1, c='r')\n",
    "plt.scatter(vs2, eigs2, c='b')\n",
    "plt.scatter(vs3, eigs3, c='g')\n",
    "plt.scatter(vs4, eigs4, c='c')\n",
    "plt.scatter(vs_out, eigs_out, c='m')\n",
    "plt.legend(['inputs', 'layer 1', 'layer 2', 'layer 3', 'layer 4', 'output'])\n",
    "plt.xlabel('vertex label')\n",
    "plt.ylabel('eigenvector centrality')\n",
    "plt.title('Hidden layers + inputs')\n",
    "plt.subplot(1,2,2)\n",
    "plt.scatter(vs1, eigs1, c='r')\n",
    "plt.scatter(vs2, eigs2, c='b')\n",
    "plt.scatter(vs3, eigs3, c='g')\n",
    "plt.scatter(vs4, eigs4, c='c')\n",
    "plt.scatter(vs_out, eigs_out, c='m')\n",
    "plt.legend(['layer 1', 'layer 2', 'layer 3', 'layer 4', 'output'])\n",
    "plt.xlabel('vertex label')\n",
    "plt.ylabel('eigenvector centrality')\n",
    "plt.title('Hidden layers only')\n",
    "plt.suptitle('Eigenvector centrality vs. nodes')\n",
    "plt.show()"
   ]
  },
  {
   "cell_type": "code",
   "execution_count": null,
   "metadata": {},
   "outputs": [],
   "source": []
  },
  {
   "cell_type": "code",
   "execution_count": null,
   "metadata": {},
   "outputs": [],
   "source": [
    "from graph_tool.inference.minimize import minimize_nested_blockmodel_dl\n",
    "min_state = minimize_nested_blockmodel_dl(g_max)\n",
    "print(min_state)"
   ]
  },
  {
   "cell_type": "code",
   "execution_count": null,
   "metadata": {},
   "outputs": [],
   "source": [
    "min_state.draw()"
   ]
  },
  {
   "cell_type": "code",
   "execution_count": null,
   "metadata": {},
   "outputs": [],
   "source": [
    "x = min_state.get_bs()[0]\n",
    "plt.imshow(x[:784].reshape((28,28)))\n",
    "plt.colorbar()\n",
    "plt.show()\n",
    "plt.imshow(X_test[i_max].reshape((28,28)))\n",
    "plt.show()"
   ]
  },
  {
   "cell_type": "code",
   "execution_count": null,
   "metadata": {},
   "outputs": [],
   "source": [
    "import pandas as pd\n",
    "\n",
    "bs = min_state.get_bs()[0]\n",
    "df = pd.DataFrame.from_dict({'group': bs, 'node label': list(range(len(bs))), 'layer': g_max.vp['layer'].a})\n",
    "sns.catplot(x='group', y='node label', data=df, hue='layer')"
   ]
  },
  {
   "cell_type": "code",
   "execution_count": null,
   "metadata": {},
   "outputs": [],
   "source": [
    "from graph_tool.inference.minimize import minimize_nested_blockmodel_dl\n",
    "min_state = minimize_nested_blockmodel_dl(g_min)\n",
    "print(min_state)\n",
    "min_state.draw(layout='sfdp')"
   ]
  },
  {
   "cell_type": "code",
   "execution_count": null,
   "metadata": {
    "scrolled": true
   },
   "outputs": [],
   "source": [
    "plt.scatter(range(g_min.num_vertices()), min_state.get_bs()[0])"
   ]
  },
  {
   "cell_type": "code",
   "execution_count": null,
   "metadata": {},
   "outputs": [],
   "source": []
  }
 ],
 "metadata": {
  "kernelspec": {
   "display_name": "Python 3",
   "language": "python",
   "name": "python3"
  },
  "language_info": {
   "codemirror_mode": {
    "name": "ipython",
    "version": 3
   },
   "file_extension": ".py",
   "mimetype": "text/x-python",
   "name": "python",
   "nbconvert_exporter": "python",
   "pygments_lexer": "ipython3",
   "version": "3.6.9"
  }
 },
 "nbformat": 4,
 "nbformat_minor": 2
}
